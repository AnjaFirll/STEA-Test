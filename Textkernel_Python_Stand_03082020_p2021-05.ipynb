{
 "cells": [
  {
   "cell_type": "code",
   "execution_count": 18,
   "metadata": {},
   "outputs": [],
   "source": [
    "import requests\n",
    "import pandas as pd\n",
    "from pandas import Series, DataFrame\n",
    "import numpy as np\n",
    "import os\n",
    "from requests.auth import HTTPBasicAuth\n",
    "import json\n",
    "import time\n",
    "import logging\n",
    "import sys"
   ]
  },
  {
   "cell_type": "code",
   "execution_count": 19,
   "metadata": {},
   "outputs": [],
   "source": [
    "import os"
   ]
  },
  {
   "cell_type": "code",
   "execution_count": 20,
   "metadata": {},
   "outputs": [],
   "source": [
    "import df_construct"
   ]
  },
  {
   "cell_type": "code",
   "execution_count": 21,
   "metadata": {},
   "outputs": [],
   "source": [
    "#os.chdir(r\"D:\\Textkernel\")"
   ]
  },
  {
   "cell_type": "code",
   "execution_count": 22,
   "metadata": {},
   "outputs": [],
   "source": [
    "YEAR_MONTH = '2020-08'"
   ]
  },
  {
   "cell_type": "code",
   "execution_count": 23,
   "metadata": {},
   "outputs": [],
   "source": [
    "log_format = (\n",
    "    '[%(asctime)s] %(levelname)-8s %(name)-12s %(message)s')\n",
    "\n",
    "logging.basicConfig(\n",
    "    level=logging.DEBUG,\n",
    "    format=log_format,\n",
    "    # Declare handlers\n",
    "    handlers=[\n",
    "        logging.StreamHandler(sys.stdout),\n",
    "        logging.FileHandler('debug_%s.log'%YEAR_MONTH),\n",
    "    ]\n",
    ")\n",
    "# Define your own logger name\n",
    "logger = logging.getLogger(\"my_logger_%s\"%YEAR_MONTH)"
   ]
  },
  {
   "cell_type": "markdown",
   "metadata": {},
   "source": [
    "### Diese Funktion iteriert für einen gegebenen Monat über alle (bekannten) Regionen, verwendet diese als Input für die \"get_month_region\" Funktionen, vergleich die Anzahl der STEAs und speichert das Dataframe als JSON"
   ]
  },
  {
   "cell_type": "code",
   "execution_count": 24,
   "metadata": {},
   "outputs": [],
   "source": [
    "def get_complete_month_2(month_select):\n",
    "    \n",
    "    \n",
    "    ergebnis = DataFrame()\n",
    "    #Achtung es gibt eine 17. Region (UN=Unbekannt)\n",
    "    \n",
    "    ##Achtung ! Eine Region ohne Einträge in einem ganzen Monat (vor aallem UN ) scheint Fehler zu verursachen \n",
    "    #region = ['BE','SL','RP','BB','MV','SH','ST','SN','HH','BW','NI','TH','UN','HB','NW','BY','HE' ]\n",
    "    \n",
    "    region = [ 'NW','BE','MV','SH','ST','SN','HH','NI','TH','HB','SL','HE','BB','BW','RP','BY' ]\n",
    "    \n",
    "    ##ACTHUnG TEST!!\n",
    "    #region = ['BE','SL','BW','RP' ]\n",
    " \n",
    "    \n",
    "\n",
    "    counter = 0\n",
    "    region_counter = 0\n",
    "    agg2 = df_construct.aggregate_month(month_select)\n",
    "    \n",
    "    logger.info(\"Anzahl Regionen  \"+str(len(region)))\n",
    "\n",
    "    for r in region:\n",
    "        # record start time\n",
    "        start = time.time()\n",
    "        region_counter+= 1\n",
    "        \n",
    "        filename = get_filename(month_select,r)\n",
    "        path = 'O:/AB12/A12/QEF-STELLENANZEIGEN/_QEF-STELLENANZEIGEN/4_Daten/4_TK_data/neueDatenTest/'\n",
    "        filename = os.path.join(path,filename+'.json')\n",
    "        if os.path.exists(filename):\n",
    "            logger.debug ('%s: file %s already exists.'%(region_counter,filename))\n",
    "            continue\n",
    "        logger.debug ('%s: processing %s ...'%(region_counter,filename))\n",
    "            \n",
    "        ##NEU\n",
    "        df_construct.toobig = False\n",
    "        \n",
    "        #Neue Retry Funktion\n",
    "        ergebnis_r = df_construct.get_month_region_retry(r,month_select)\n",
    "        \n",
    "        ##Neu\n",
    "        \n",
    "        agg1 = df_construct.aggregate_month_region(r,month_select)\n",
    "        \n",
    "        ##Wie viele Anzeigen runtergeladen\n",
    "        counter = counter + len(ergebnis_r)\n",
    "        \n",
    "        ##NEU nach JSON per Monat/Region\n",
    "        \n",
    "        #NEU!\n",
    "        #filename = get_filename(month_select,r)\n",
    "        write_json(filename,ergebnis_r)\n",
    "        \n",
    "        ##NEU! Für den 2ten Teil des Programms muss der Filename verfügbar sein\n",
    "        \n",
    "        files.append(filename)\n",
    "        \n",
    "        ## Die Daten über die heruntergeladenen STEAS \n",
    "        mdata = []\n",
    "        \n",
    "        ##Monat/Jahr Region und heruntergeladene Steas\n",
    "        #mdata.append(month_select)\n",
    "        \n",
    "        #NEU!!!\n",
    "        jahr = month_select.split('-')[0]\n",
    "        monat= month_select.split('-')[1]\n",
    "        \n",
    "        mdata.append(jahr)\n",
    "        mdata.append(monat)\n",
    "        \n",
    "        ###\n",
    "        \n",
    "        mdata.append(r)\n",
    "        mdata.append(len(ergebnis_r))\n",
    "        \n",
    "        ## Steas für diesen Monat/Jahr/Region die aktuelle Anzahl der Steas in allen Downloads und die Anzahl der Steas für\n",
    "        ## den gesamten Monat des Jahres (mit den unbekannten Regionen)\n",
    "        mdata.append(agg1)\n",
    "        mdata.append(counter)\n",
    "        mdata.append(agg2)\n",
    "        \n",
    "        ##Und der Dateiname für später\n",
    "        mdata.append(filename)\n",
    "        \n",
    "        ##TEST die globale Variable für zu große Tage\n",
    "        mdata.append(df_construct.toobig)\n",
    "        \n",
    "        ##Tupel wird der globalen Variable hinzugefügt\n",
    "        metadata.append(mdata)\n",
    "        \n",
    "        ## Speicher wieder freigeben \n",
    "        mdata = None\n",
    "        ergebnis_r = None\n",
    "    \n",
    "        # record execution time\n",
    "        executionTime = (time.time () - start) \n",
    "\n",
    "        # print the difference between start\n",
    "        # and end time in milli. secs\n",
    "        logger.debug(\"The time of execution of PROCESSING df for region %s : %s\"%(r, sec_to_hms(int(executionTime))))\n",
    "      \n",
    "    \n",
    "    logger.debug(\"Programm fertig\")    "
   ]
  },
  {
   "cell_type": "code",
   "execution_count": 25,
   "metadata": {},
   "outputs": [],
   "source": [
    "##NEU Funktion soll weiter helfen die Dateinamen zu vereinheitlichen \n",
    "def get_filename(month,region):\n",
    "    \n",
    "    filename = \"TK_\"+month+\"_\"+region\n",
    "    \n",
    "    return filename"
   ]
  },
  {
   "cell_type": "code",
   "execution_count": 26,
   "metadata": {},
   "outputs": [],
   "source": [
    "## Die Ausgabe ist für die json --> DB Funktion gedacht \n",
    "def get_month(filename):\n",
    "    \n",
    "    month = filename[3:10]\n",
    "  \n",
    "    return month"
   ]
  },
  {
   "cell_type": "code",
   "execution_count": 27,
   "metadata": {},
   "outputs": [],
   "source": [
    "def sec_to_hms(seconds):\n",
    "    h = seconds // 3600\n",
    "    m = seconds % 3600 // 60\n",
    "    s = seconds % 3600 % 60\n",
    "    return f'{h:02d}:{m:02d}:{s:02d}'"
   ]
  },
  {
   "cell_type": "code",
   "execution_count": 28,
   "metadata": {},
   "outputs": [],
   "source": [
    "##NEUE Parameter\n",
    "def write_json(filename,df):\n",
    "    # record start time\n",
    "    start = time.time()\n",
    "    \n",
    "    #Das macht die Funtion nun nicht mehr selbst\n",
    "    #filename = month+region\n",
    "    \n",
    "    \n",
    "    logger.debug(\"Schreibe als json:  \"+filename)\n",
    "    print(\"Schreibe als json:  \"+filename,file=text_file)\n",
    "    \n",
    "    \n",
    "    ##Sollte Force_Ascii nicht true sein: NEIN für Textkernel und Co brauch man Latin-1 encoding NICHT utf-8\n",
    "    df.to_json(filename+\".json\", orient=\"records\", force_ascii = False)\n",
    "    \n",
    "    ##df.to_json(filename+\".json\", orient=\"records\", force_ascii = True)\n",
    "    \n",
    "    logger.debug(\"JSON Datei erstellt\")\n",
    "    print(\"JSON Datei erstellt\",file=text_file)\n",
    "    \n",
    "    # record execution time\n",
    "    executionTime = (time.time () - start) \n",
    "\n",
    "    # print the difference between start\n",
    "    # and end time in milli. secs\n",
    "    logger.debug(\"The time of execution of writing on json is : %s\",\n",
    "          sec_to_hms(int(executionTime)))"
   ]
  },
  {
   "cell_type": "code",
   "execution_count": 29,
   "metadata": {},
   "outputs": [],
   "source": [
    "##Der Februar ist der Monat mit den meisten Einträgen\n",
    "### Format YYYY-MM\n",
    "def testlauf():\n",
    "    \n",
    "    months = [YEAR_MONTH] #,'2022-05','2022-06','2022-07','2022-08','2021-06','2021-07','2021-08','2021-09','2021-10','2021-11','2021-12','2022-01','2022-02','2022-03','2022-04']\n",
    "    \n",
    "    for m in months:\n",
    "        get_complete_month_2(m)\n",
    "        \n"
   ]
  },
  {
   "cell_type": "code",
   "execution_count": null,
   "metadata": {},
   "outputs": [],
   "source": []
  },
  {
   "cell_type": "markdown",
   "metadata": {},
   "source": [
    "#### Startpunkt für das Progrtamm (Teil 1) , initialisiert eine Variable die den Zugriff für die Log Datei enthält sowie zwei Arrays die global vorliegen"
   ]
  },
  {
   "cell_type": "code",
   "execution_count": null,
   "metadata": {
    "scrolled": true
   },
   "outputs": [
    {
     "name": "stdout",
     "output_type": "stream",
     "text": [
      "[2023-03-03 15:22:34,384] DEBUG    urllib3.connectionpool Starting new HTTPS connection (1): www.jobfeed.de:443\n",
      "[2023-03-03 15:22:35,139] DEBUG    urllib3.connectionpool https://www.jobfeed.de:443 \"GET /api/v3/aggregate?date__range=2020-08-01__2020-08-01%7C%7C%2B1M-1d%0A%0A HTTP/1.1\" 200 None\n",
      "[2023-03-03 15:22:35,143] INFO     my_logger_2020-08 Anzahl Regionen  16\n",
      "[2023-03-03 15:22:35,152] DEBUG    my_logger_2020-08 1: processing O:/AB12/A12/QEF-STELLENANZEIGEN/_QEF-STELLENANZEIGEN/4_Daten/4_TK_data/neueDatenTest/TK_2020-08_NW.json ...\n",
      "[2023-03-03 15:22:38,170] DEBUG    urllib3.connectionpool Starting new HTTPS connection (1): www.jobfeed.de:443\n",
      "[2023-03-03 15:22:38,820] DEBUG    urllib3.connectionpool https://www.jobfeed.de:443 \"GET /api/v3/aggregate?date__range=2020-08-01__2020-08-01%7C%7C%2B1M-1d%0A%0A&region=NW HTTP/1.1\" 200 None\n",
      "[2023-03-03 15:22:41,839] DEBUG    urllib3.connectionpool Starting new HTTPS connection (1): www.jobfeed.de:443\n",
      "[2023-03-03 15:22:45,374] DEBUG    urllib3.connectionpool https://www.jobfeed.de:443 \"GET /api/v3/search?region=NW&date=2020-08-01&_limit=10000&_labels=0 HTTP/1.1\" 200 None\n",
      "[2023-03-03 15:22:49,884] DEBUG    urllib3.connectionpool Starting new HTTPS connection (1): www.jobfeed.de:443\n",
      "[2023-03-03 15:22:51,510] DEBUG    urllib3.connectionpool https://www.jobfeed.de:443 \"GET /api/v3/search?region=NW&date=2020-08-02&_limit=10000&_labels=0 HTTP/1.1\" 200 None\n",
      "[2023-03-03 15:22:55,461] DEBUG    urllib3.connectionpool Starting new HTTPS connection (1): www.jobfeed.de:443\n",
      "[2023-03-03 15:22:57,815] DEBUG    urllib3.connectionpool https://www.jobfeed.de:443 \"GET /api/v3/search?region=NW&date=2020-08-03&_limit=10000&_labels=0 HTTP/1.1\" 200 None\n",
      "[2023-03-03 15:23:01,908] DEBUG    urllib3.connectionpool Starting new HTTPS connection (1): www.jobfeed.de:443\n",
      "[2023-03-03 15:23:05,842] DEBUG    urllib3.connectionpool https://www.jobfeed.de:443 \"GET /api/v3/search?region=NW&date=2020-08-04&_limit=10000&_labels=0 HTTP/1.1\" 200 None\n",
      "[2023-03-03 15:23:11,040] DEBUG    urllib3.connectionpool Starting new HTTPS connection (1): www.jobfeed.de:443\n",
      "[2023-03-03 15:23:17,356] DEBUG    urllib3.connectionpool https://www.jobfeed.de:443 \"GET /api/v3/search?region=NW&date=2020-08-05&_limit=10000&_labels=0 HTTP/1.1\" 200 None\n",
      "[2023-03-03 15:23:22,770] DEBUG    urllib3.connectionpool Starting new HTTPS connection (1): www.jobfeed.de:443\n",
      "[2023-03-03 15:23:28,745] DEBUG    urllib3.connectionpool https://www.jobfeed.de:443 \"GET /api/v3/search?region=NW&date=2020-08-06&_limit=10000&_labels=0 HTTP/1.1\" 200 None\n",
      "[2023-03-03 15:23:34,572] DEBUG    urllib3.connectionpool Starting new HTTPS connection (1): www.jobfeed.de:443\n",
      "[2023-03-03 15:23:40,748] DEBUG    urllib3.connectionpool https://www.jobfeed.de:443 \"GET /api/v3/search?region=NW&date=2020-08-07&_limit=10000&_labels=0 HTTP/1.1\" 200 None\n",
      "[2023-03-03 15:23:46,473] DEBUG    urllib3.connectionpool Starting new HTTPS connection (1): www.jobfeed.de:443\n",
      "[2023-03-03 15:23:51,064] DEBUG    urllib3.connectionpool https://www.jobfeed.de:443 \"GET /api/v3/search?region=NW&date=2020-08-08&_limit=10000&_labels=0 HTTP/1.1\" 200 None\n",
      "[2023-03-03 15:23:55,733] DEBUG    urllib3.connectionpool Starting new HTTPS connection (1): www.jobfeed.de:443\n",
      "[2023-03-03 15:23:58,128] DEBUG    urllib3.connectionpool https://www.jobfeed.de:443 \"GET /api/v3/search?region=NW&date=2020-08-09&_limit=10000&_labels=0 HTTP/1.1\" 200 None\n",
      "[2023-03-03 15:24:02,501] DEBUG    urllib3.connectionpool Starting new HTTPS connection (1): www.jobfeed.de:443\n",
      "[2023-03-03 15:24:05,316] DEBUG    urllib3.connectionpool https://www.jobfeed.de:443 \"GET /api/v3/search?region=NW&date=2020-08-10&_limit=10000&_labels=0 HTTP/1.1\" 200 None\n",
      "[2023-03-03 15:24:09,969] DEBUG    urllib3.connectionpool Starting new HTTPS connection (1): www.jobfeed.de:443\n",
      "[2023-03-03 15:24:13,784] DEBUG    urllib3.connectionpool https://www.jobfeed.de:443 \"GET /api/v3/search?region=NW&date=2020-08-11&_limit=10000&_labels=0 HTTP/1.1\" 200 None\n",
      "[2023-03-03 15:24:19,764] DEBUG    urllib3.connectionpool Starting new HTTPS connection (1): www.jobfeed.de:443\n",
      "[2023-03-03 15:24:25,299] DEBUG    urllib3.connectionpool https://www.jobfeed.de:443 \"GET /api/v3/search?region=NW&date=2020-08-12&_limit=10000&_labels=0 HTTP/1.1\" 200 None\n",
      "[2023-03-03 15:24:30,452] DEBUG    urllib3.connectionpool Starting new HTTPS connection (1): www.jobfeed.de:443\n",
      "[2023-03-03 15:24:36,114] DEBUG    urllib3.connectionpool https://www.jobfeed.de:443 \"GET /api/v3/search?region=NW&date=2020-08-13&_limit=10000&_labels=0 HTTP/1.1\" 200 None\n",
      "[2023-03-03 15:24:42,619] DEBUG    urllib3.connectionpool Starting new HTTPS connection (1): www.jobfeed.de:443\n",
      "[2023-03-03 15:24:49,509] DEBUG    urllib3.connectionpool https://www.jobfeed.de:443 \"GET /api/v3/search?region=NW&date=2020-08-14&_limit=10000&_labels=0 HTTP/1.1\" 200 None\n",
      "[2023-03-03 15:24:55,785] DEBUG    urllib3.connectionpool Starting new HTTPS connection (1): www.jobfeed.de:443\n",
      "[2023-03-03 15:25:01,342] DEBUG    urllib3.connectionpool https://www.jobfeed.de:443 \"GET /api/v3/search?region=NW&date=2020-08-15&_limit=10000&_labels=0 HTTP/1.1\" 200 None\n",
      "[2023-03-03 15:25:06,551] DEBUG    urllib3.connectionpool Starting new HTTPS connection (1): www.jobfeed.de:443\n",
      "[2023-03-03 15:25:08,809] DEBUG    urllib3.connectionpool https://www.jobfeed.de:443 \"GET /api/v3/search?region=NW&date=2020-08-16&_limit=10000&_labels=0 HTTP/1.1\" 200 None\n",
      "[2023-03-03 15:25:13,597] DEBUG    urllib3.connectionpool Starting new HTTPS connection (1): www.jobfeed.de:443\n",
      "[2023-03-03 15:25:17,595] DEBUG    urllib3.connectionpool https://www.jobfeed.de:443 \"GET /api/v3/search?region=NW&date=2020-08-17&_limit=10000&_labels=0 HTTP/1.1\" 200 None\n",
      "[2023-03-03 15:25:24,154] DEBUG    urllib3.connectionpool Starting new HTTPS connection (1): www.jobfeed.de:443\n",
      "[2023-03-03 15:25:30,057] DEBUG    urllib3.connectionpool https://www.jobfeed.de:443 \"GET /api/v3/search?region=NW&date=2020-08-18&_limit=10000&_labels=0 HTTP/1.1\" 200 None\n",
      "[2023-03-03 15:25:36,523] DEBUG    urllib3.connectionpool Starting new HTTPS connection (1): www.jobfeed.de:443\n",
      "[2023-03-03 15:25:42,759] DEBUG    urllib3.connectionpool https://www.jobfeed.de:443 \"GET /api/v3/search?region=NW&date=2020-08-19&_limit=10000&_labels=0 HTTP/1.1\" 200 None\n",
      "[2023-03-03 15:25:49,106] DEBUG    urllib3.connectionpool Starting new HTTPS connection (1): www.jobfeed.de:443\n",
      "[2023-03-03 15:25:55,373] DEBUG    urllib3.connectionpool https://www.jobfeed.de:443 \"GET /api/v3/search?region=NW&date=2020-08-20&_limit=10000&_labels=0 HTTP/1.1\" 200 None\n",
      "[2023-03-03 15:26:02,036] DEBUG    urllib3.connectionpool Starting new HTTPS connection (1): www.jobfeed.de:443\n",
      "[2023-03-03 15:26:08,084] DEBUG    urllib3.connectionpool https://www.jobfeed.de:443 \"GET /api/v3/search?region=NW&date=2020-08-21&_limit=10000&_labels=0 HTTP/1.1\" 200 None\n",
      "[2023-03-03 15:26:14,984] DEBUG    urllib3.connectionpool Starting new HTTPS connection (1): www.jobfeed.de:443\n",
      "[2023-03-03 15:26:18,935] DEBUG    urllib3.connectionpool https://www.jobfeed.de:443 \"GET /api/v3/search?region=NW&date=2020-08-22&_limit=10000&_labels=0 HTTP/1.1\" 200 None\n",
      "[2023-03-03 15:26:25,092] DEBUG    urllib3.connectionpool Starting new HTTPS connection (1): www.jobfeed.de:443\n",
      "[2023-03-03 15:26:27,668] DEBUG    urllib3.connectionpool https://www.jobfeed.de:443 \"GET /api/v3/search?region=NW&date=2020-08-23&_limit=10000&_labels=0 HTTP/1.1\" 200 None\n",
      "[2023-03-03 15:26:33,019] DEBUG    urllib3.connectionpool Starting new HTTPS connection (1): www.jobfeed.de:443\n",
      "[2023-03-03 15:26:35,835] DEBUG    urllib3.connectionpool https://www.jobfeed.de:443 \"GET /api/v3/search?region=NW&date=2020-08-24&_limit=10000&_labels=0 HTTP/1.1\" 200 None\n",
      "[2023-03-03 15:26:41,034] DEBUG    urllib3.connectionpool Starting new HTTPS connection (1): www.jobfeed.de:443\n",
      "[2023-03-03 15:26:45,446] DEBUG    urllib3.connectionpool https://www.jobfeed.de:443 \"GET /api/v3/search?region=NW&date=2020-08-25&_limit=10000&_labels=0 HTTP/1.1\" 200 None\n",
      "[2023-03-03 15:26:52,136] DEBUG    urllib3.connectionpool Starting new HTTPS connection (1): www.jobfeed.de:443\n",
      "[2023-03-03 15:26:57,610] DEBUG    urllib3.connectionpool https://www.jobfeed.de:443 \"GET /api/v3/search?region=NW&date=2020-08-26&_limit=10000&_labels=0 HTTP/1.1\" 200 None\n"
     ]
    },
    {
     "name": "stdout",
     "output_type": "stream",
     "text": [
      "[2023-03-03 15:27:04,098] DEBUG    urllib3.connectionpool Starting new HTTPS connection (1): www.jobfeed.de:443\n",
      "[2023-03-03 15:27:10,505] DEBUG    urllib3.connectionpool https://www.jobfeed.de:443 \"GET /api/v3/search?region=NW&date=2020-08-27&_limit=10000&_labels=0 HTTP/1.1\" 200 None\n",
      "[2023-03-03 15:27:17,288] DEBUG    urllib3.connectionpool Starting new HTTPS connection (1): www.jobfeed.de:443\n",
      "[2023-03-03 15:27:22,091] DEBUG    urllib3.connectionpool https://www.jobfeed.de:443 \"GET /api/v3/search?region=NW&date=2020-08-28&_limit=10000&_labels=0 HTTP/1.1\" 200 None\n",
      "[2023-03-03 15:27:28,395] DEBUG    urllib3.connectionpool Starting new HTTPS connection (1): www.jobfeed.de:443\n",
      "[2023-03-03 15:27:33,008] DEBUG    urllib3.connectionpool https://www.jobfeed.de:443 \"GET /api/v3/search?region=NW&date=2020-08-29&_limit=10000&_labels=0 HTTP/1.1\" 200 None\n",
      "[2023-03-03 15:27:39,875] DEBUG    urllib3.connectionpool Starting new HTTPS connection (1): www.jobfeed.de:443\n",
      "[2023-03-03 15:27:42,863] DEBUG    urllib3.connectionpool https://www.jobfeed.de:443 \"GET /api/v3/search?region=NW&date=2020-08-30&_limit=10000&_labels=0 HTTP/1.1\" 200 None\n",
      "[2023-03-03 15:27:48,586] DEBUG    urllib3.connectionpool Starting new HTTPS connection (1): www.jobfeed.de:443\n",
      "[2023-03-03 15:27:52,068] DEBUG    urllib3.connectionpool https://www.jobfeed.de:443 \"GET /api/v3/search?region=NW&date=2020-08-31&_limit=10000&_labels=0 HTTP/1.1\" 200 None\n",
      "[2023-03-03 15:27:59,138] DEBUG    urllib3.connectionpool Starting new HTTPS connection (1): www.jobfeed.de:443\n",
      "[2023-03-03 15:27:59,732] DEBUG    urllib3.connectionpool https://www.jobfeed.de:443 \"GET /api/v3/aggregate?date__range=2020-08-01__2020-08-01%7C%7C%2B1M-1d%0A%0A&region=NW HTTP/1.1\" 200 None\n",
      "[2023-03-03 15:27:59,735] DEBUG    my_logger_2020-08 Schreibe als json:  O:/AB12/A12/QEF-STELLENANZEIGEN/_QEF-STELLENANZEIGEN/4_Daten/4_TK_data/neueDatenTest/TK_2020-08_NW.json\n",
      "[2023-03-03 15:28:25,943] DEBUG    my_logger_2020-08 JSON Datei erstellt\n",
      "[2023-03-03 15:28:25,943] DEBUG    my_logger_2020-08 The time of execution of writing on json is : 00:00:26\n",
      "[2023-03-03 15:28:27,225] DEBUG    my_logger_2020-08 The time of execution of PROCESSING df for region NW : 00:05:52\n",
      "[2023-03-03 15:28:27,227] DEBUG    my_logger_2020-08 2: processing O:/AB12/A12/QEF-STELLENANZEIGEN/_QEF-STELLENANZEIGEN/4_Daten/4_TK_data/neueDatenTest/TK_2020-08_BE.json ...\n",
      "[2023-03-03 15:28:30,244] DEBUG    urllib3.connectionpool Starting new HTTPS connection (1): www.jobfeed.de:443\n",
      "[2023-03-03 15:28:30,869] DEBUG    urllib3.connectionpool https://www.jobfeed.de:443 \"GET /api/v3/aggregate?date__range=2020-08-01__2020-08-01%7C%7C%2B1M-1d%0A%0A&region=BE HTTP/1.1\" 200 None\n",
      "[2023-03-03 15:28:33,881] DEBUG    urllib3.connectionpool Starting new HTTPS connection (1): www.jobfeed.de:443\n",
      "[2023-03-03 15:28:35,624] DEBUG    urllib3.connectionpool https://www.jobfeed.de:443 \"GET /api/v3/search?region=BE&date=2020-08-01&_limit=10000&_labels=0 HTTP/1.1\" 200 None\n",
      "[2023-03-03 15:28:39,501] DEBUG    urllib3.connectionpool Starting new HTTPS connection (1): www.jobfeed.de:443\n",
      "[2023-03-03 15:28:40,351] DEBUG    urllib3.connectionpool https://www.jobfeed.de:443 \"GET /api/v3/search?region=BE&date=2020-08-02&_limit=10000&_labels=0 HTTP/1.1\" 200 None\n",
      "[2023-03-03 15:28:43,655] DEBUG    urllib3.connectionpool Starting new HTTPS connection (1): www.jobfeed.de:443\n",
      "[2023-03-03 15:28:44,847] DEBUG    urllib3.connectionpool https://www.jobfeed.de:443 \"GET /api/v3/search?region=BE&date=2020-08-03&_limit=10000&_labels=0 HTTP/1.1\" 200 None\n",
      "[2023-03-03 15:28:48,251] DEBUG    urllib3.connectionpool Starting new HTTPS connection (1): www.jobfeed.de:443\n",
      "[2023-03-03 15:28:50,075] DEBUG    urllib3.connectionpool https://www.jobfeed.de:443 \"GET /api/v3/search?region=BE&date=2020-08-04&_limit=10000&_labels=0 HTTP/1.1\" 200 None\n",
      "[2023-03-03 15:28:53,908] DEBUG    urllib3.connectionpool Starting new HTTPS connection (1): www.jobfeed.de:443\n",
      "[2023-03-03 15:28:55,928] DEBUG    urllib3.connectionpool https://www.jobfeed.de:443 \"GET /api/v3/search?region=BE&date=2020-08-05&_limit=10000&_labels=0 HTTP/1.1\" 200 None\n",
      "[2023-03-03 15:28:59,955] DEBUG    urllib3.connectionpool Starting new HTTPS connection (1): www.jobfeed.de:443\n",
      "[2023-03-03 15:29:02,314] DEBUG    urllib3.connectionpool https://www.jobfeed.de:443 \"GET /api/v3/search?region=BE&date=2020-08-06&_limit=10000&_labels=0 HTTP/1.1\" 200 None\n",
      "[2023-03-03 15:29:06,763] DEBUG    urllib3.connectionpool Starting new HTTPS connection (1): www.jobfeed.de:443\n",
      "[2023-03-03 15:29:09,018] DEBUG    urllib3.connectionpool https://www.jobfeed.de:443 \"GET /api/v3/search?region=BE&date=2020-08-07&_limit=10000&_labels=0 HTTP/1.1\" 200 None\n",
      "[2023-03-03 15:29:13,246] DEBUG    urllib3.connectionpool Starting new HTTPS connection (1): www.jobfeed.de:443\n",
      "[2023-03-03 15:29:18,594] DEBUG    urllib3.connectionpool https://www.jobfeed.de:443 \"GET /api/v3/search?region=BE&date=2020-08-08&_limit=10000&_labels=0 HTTP/1.1\" 200 None\n",
      "[2023-03-03 15:29:22,302] DEBUG    urllib3.connectionpool Starting new HTTPS connection (1): www.jobfeed.de:443\n",
      "[2023-03-03 15:29:23,742] DEBUG    urllib3.connectionpool https://www.jobfeed.de:443 \"GET /api/v3/search?region=BE&date=2020-08-09&_limit=10000&_labels=0 HTTP/1.1\" 200 None\n",
      "[2023-03-03 15:29:27,570] DEBUG    urllib3.connectionpool Starting new HTTPS connection (1): www.jobfeed.de:443\n",
      "[2023-03-03 15:29:32,588] DEBUG    urllib3.connectionpool https://www.jobfeed.de:443 \"GET /api/v3/search?region=BE&date=2020-08-10&_limit=10000&_labels=0 HTTP/1.1\" 200 None\n",
      "[2023-03-03 15:29:36,422] DEBUG    urllib3.connectionpool Starting new HTTPS connection (1): www.jobfeed.de:443\n",
      "[2023-03-03 15:29:38,310] DEBUG    urllib3.connectionpool https://www.jobfeed.de:443 \"GET /api/v3/search?region=BE&date=2020-08-11&_limit=10000&_labels=0 HTTP/1.1\" 200 None\n",
      "[2023-03-03 15:29:42,355] DEBUG    urllib3.connectionpool Starting new HTTPS connection (1): www.jobfeed.de:443\n",
      "[2023-03-03 15:29:44,319] DEBUG    urllib3.connectionpool https://www.jobfeed.de:443 \"GET /api/v3/search?region=BE&date=2020-08-12&_limit=10000&_labels=0 HTTP/1.1\" 200 None\n",
      "[2023-03-03 15:29:48,489] DEBUG    urllib3.connectionpool Starting new HTTPS connection (1): www.jobfeed.de:443\n",
      "[2023-03-03 15:29:50,735] DEBUG    urllib3.connectionpool https://www.jobfeed.de:443 \"GET /api/v3/search?region=BE&date=2020-08-13&_limit=10000&_labels=0 HTTP/1.1\" 200 None\n",
      "[2023-03-03 15:29:55,219] DEBUG    urllib3.connectionpool Starting new HTTPS connection (1): www.jobfeed.de:443\n",
      "[2023-03-03 15:29:57,928] DEBUG    urllib3.connectionpool https://www.jobfeed.de:443 \"GET /api/v3/search?region=BE&date=2020-08-14&_limit=10000&_labels=0 HTTP/1.1\" 200 None\n",
      "[2023-03-03 15:30:02,628] DEBUG    urllib3.connectionpool Starting new HTTPS connection (1): www.jobfeed.de:443\n",
      "[2023-03-03 15:30:04,157] DEBUG    urllib3.connectionpool https://www.jobfeed.de:443 \"GET /api/v3/search?region=BE&date=2020-08-15&_limit=10000&_labels=0 HTTP/1.1\" 200 None\n",
      "[2023-03-03 15:30:08,078] DEBUG    urllib3.connectionpool Starting new HTTPS connection (1): www.jobfeed.de:443\n",
      "[2023-03-03 15:30:09,848] DEBUG    urllib3.connectionpool https://www.jobfeed.de:443 \"GET /api/v3/search?region=BE&date=2020-08-16&_limit=10000&_labels=0 HTTP/1.1\" 200 None\n",
      "[2023-03-03 15:30:13,788] DEBUG    urllib3.connectionpool Starting new HTTPS connection (1): www.jobfeed.de:443\n",
      "[2023-03-03 15:30:15,668] DEBUG    urllib3.connectionpool https://www.jobfeed.de:443 \"GET /api/v3/search?region=BE&date=2020-08-17&_limit=10000&_labels=0 HTTP/1.1\" 200 None\n",
      "[2023-03-03 15:30:20,025] DEBUG    urllib3.connectionpool Starting new HTTPS connection (1): www.jobfeed.de:443\n",
      "[2023-03-03 15:30:22,908] DEBUG    urllib3.connectionpool https://www.jobfeed.de:443 \"GET /api/v3/search?region=BE&date=2020-08-18&_limit=10000&_labels=0 HTTP/1.1\" 200 None\n",
      "[2023-03-03 15:30:27,436] DEBUG    urllib3.connectionpool Starting new HTTPS connection (1): www.jobfeed.de:443\n",
      "[2023-03-03 15:30:29,362] DEBUG    urllib3.connectionpool https://www.jobfeed.de:443 \"GET /api/v3/search?region=BE&date=2020-08-19&_limit=10000&_labels=0 HTTP/1.1\" 200 None\n",
      "[2023-03-03 15:30:33,600] DEBUG    urllib3.connectionpool Starting new HTTPS connection (1): www.jobfeed.de:443\n"
     ]
    },
    {
     "name": "stdout",
     "output_type": "stream",
     "text": [
      "[2023-03-03 15:30:35,924] DEBUG    urllib3.connectionpool https://www.jobfeed.de:443 \"GET /api/v3/search?region=BE&date=2020-08-20&_limit=10000&_labels=0 HTTP/1.1\" 200 None\n",
      "[2023-03-03 15:30:40,615] DEBUG    urllib3.connectionpool Starting new HTTPS connection (1): www.jobfeed.de:443\n",
      "[2023-03-03 15:30:42,704] DEBUG    urllib3.connectionpool https://www.jobfeed.de:443 \"GET /api/v3/search?region=BE&date=2020-08-21&_limit=10000&_labels=0 HTTP/1.1\" 200 None\n",
      "[2023-03-03 15:30:46,835] DEBUG    urllib3.connectionpool Starting new HTTPS connection (1): www.jobfeed.de:443\n",
      "[2023-03-03 15:30:48,978] DEBUG    urllib3.connectionpool https://www.jobfeed.de:443 \"GET /api/v3/search?region=BE&date=2020-08-22&_limit=10000&_labels=0 HTTP/1.1\" 200 None\n",
      "[2023-03-03 15:30:53,654] DEBUG    urllib3.connectionpool Starting new HTTPS connection (1): www.jobfeed.de:443\n",
      "[2023-03-03 15:30:55,459] DEBUG    urllib3.connectionpool https://www.jobfeed.de:443 \"GET /api/v3/search?region=BE&date=2020-08-23&_limit=10000&_labels=0 HTTP/1.1\" 200 None\n",
      "[2023-03-03 15:30:59,722] DEBUG    urllib3.connectionpool Starting new HTTPS connection (1): www.jobfeed.de:443\n",
      "[2023-03-03 15:31:01,209] DEBUG    urllib3.connectionpool https://www.jobfeed.de:443 \"GET /api/v3/search?region=BE&date=2020-08-24&_limit=10000&_labels=0 HTTP/1.1\" 200 None\n",
      "[2023-03-03 15:31:05,335] DEBUG    urllib3.connectionpool Starting new HTTPS connection (1): www.jobfeed.de:443\n",
      "[2023-03-03 15:31:07,271] DEBUG    urllib3.connectionpool https://www.jobfeed.de:443 \"GET /api/v3/search?region=BE&date=2020-08-25&_limit=10000&_labels=0 HTTP/1.1\" 200 None\n",
      "[2023-03-03 15:31:11,836] DEBUG    urllib3.connectionpool Starting new HTTPS connection (1): www.jobfeed.de:443\n",
      "[2023-03-03 15:31:14,231] DEBUG    urllib3.connectionpool https://www.jobfeed.de:443 \"GET /api/v3/search?region=BE&date=2020-08-26&_limit=10000&_labels=0 HTTP/1.1\" 200 None\n",
      "[2023-03-03 15:31:18,602] DEBUG    urllib3.connectionpool Starting new HTTPS connection (1): www.jobfeed.de:443\n",
      "[2023-03-03 15:31:21,115] DEBUG    urllib3.connectionpool https://www.jobfeed.de:443 \"GET /api/v3/search?region=BE&date=2020-08-27&_limit=10000&_labels=0 HTTP/1.1\" 200 None\n",
      "[2023-03-03 15:31:26,003] DEBUG    urllib3.connectionpool Starting new HTTPS connection (1): www.jobfeed.de:443\n",
      "[2023-03-03 15:31:28,165] DEBUG    urllib3.connectionpool https://www.jobfeed.de:443 \"GET /api/v3/search?region=BE&date=2020-08-28&_limit=10000&_labels=0 HTTP/1.1\" 200 None\n",
      "[2023-03-03 15:31:33,135] DEBUG    urllib3.connectionpool Starting new HTTPS connection (1): www.jobfeed.de:443\n",
      "[2023-03-03 15:31:35,339] DEBUG    urllib3.connectionpool https://www.jobfeed.de:443 \"GET /api/v3/search?region=BE&date=2020-08-29&_limit=10000&_labels=0 HTTP/1.1\" 200 None\n",
      "[2023-03-03 15:31:39,843] DEBUG    urllib3.connectionpool Starting new HTTPS connection (1): www.jobfeed.de:443\n",
      "[2023-03-03 15:31:41,173] DEBUG    urllib3.connectionpool https://www.jobfeed.de:443 \"GET /api/v3/search?region=BE&date=2020-08-30&_limit=10000&_labels=0 HTTP/1.1\" 200 None\n",
      "[2023-03-03 15:31:45,124] DEBUG    urllib3.connectionpool Starting new HTTPS connection (1): www.jobfeed.de:443\n",
      "[2023-03-03 15:31:46,370] DEBUG    urllib3.connectionpool https://www.jobfeed.de:443 \"GET /api/v3/search?region=BE&date=2020-08-31&_limit=10000&_labels=0 HTTP/1.1\" 200 None\n",
      "[2023-03-03 15:31:50,787] DEBUG    urllib3.connectionpool Starting new HTTPS connection (1): www.jobfeed.de:443\n",
      "[2023-03-03 15:31:51,268] DEBUG    urllib3.connectionpool https://www.jobfeed.de:443 \"GET /api/v3/aggregate?date__range=2020-08-01__2020-08-01%7C%7C%2B1M-1d%0A%0A&region=BE HTTP/1.1\" 200 None\n",
      "[2023-03-03 15:31:51,276] DEBUG    my_logger_2020-08 Schreibe als json:  O:/AB12/A12/QEF-STELLENANZEIGEN/_QEF-STELLENANZEIGEN/4_Daten/4_TK_data/neueDatenTest/TK_2020-08_BE.json\n",
      "[2023-03-03 15:32:01,210] DEBUG    my_logger_2020-08 JSON Datei erstellt\n",
      "[2023-03-03 15:32:01,211] DEBUG    my_logger_2020-08 The time of execution of writing on json is : 00:00:09\n",
      "[2023-03-03 15:32:01,540] DEBUG    my_logger_2020-08 The time of execution of PROCESSING df for region BE : 00:03:34\n",
      "[2023-03-03 15:32:01,542] DEBUG    my_logger_2020-08 3: processing O:/AB12/A12/QEF-STELLENANZEIGEN/_QEF-STELLENANZEIGEN/4_Daten/4_TK_data/neueDatenTest/TK_2020-08_MV.json ...\n",
      "[2023-03-03 15:32:04,556] DEBUG    urllib3.connectionpool Starting new HTTPS connection (1): www.jobfeed.de:443\n",
      "[2023-03-03 15:32:05,059] DEBUG    urllib3.connectionpool https://www.jobfeed.de:443 \"GET /api/v3/aggregate?date__range=2020-08-01__2020-08-01%7C%7C%2B1M-1d%0A%0A&region=MV HTTP/1.1\" 200 None\n",
      "[2023-03-03 15:32:08,080] DEBUG    urllib3.connectionpool Starting new HTTPS connection (1): www.jobfeed.de:443\n",
      "[2023-03-03 15:32:08,805] DEBUG    urllib3.connectionpool https://www.jobfeed.de:443 \"GET /api/v3/search?region=MV&date=2020-08-01&_limit=10000&_labels=0 HTTP/1.1\" 200 None\n",
      "[2023-03-03 15:32:11,987] DEBUG    urllib3.connectionpool Starting new HTTPS connection (1): www.jobfeed.de:443\n",
      "[2023-03-03 15:32:12,610] DEBUG    urllib3.connectionpool https://www.jobfeed.de:443 \"GET /api/v3/search?region=MV&date=2020-08-02&_limit=10000&_labels=0 HTTP/1.1\" 200 None\n",
      "[2023-03-03 15:32:15,739] DEBUG    urllib3.connectionpool Starting new HTTPS connection (1): www.jobfeed.de:443\n",
      "[2023-03-03 15:32:16,633] DEBUG    urllib3.connectionpool https://www.jobfeed.de:443 \"GET /api/v3/search?region=MV&date=2020-08-03&_limit=10000&_labels=0 HTTP/1.1\" 200 None\n",
      "[2023-03-03 15:32:19,802] DEBUG    urllib3.connectionpool Starting new HTTPS connection (1): www.jobfeed.de:443\n",
      "[2023-03-03 15:32:20,662] DEBUG    urllib3.connectionpool https://www.jobfeed.de:443 \"GET /api/v3/search?region=MV&date=2020-08-04&_limit=10000&_labels=0 HTTP/1.1\" 200 None\n",
      "[2023-03-03 15:32:23,936] DEBUG    urllib3.connectionpool Starting new HTTPS connection (1): www.jobfeed.de:443\n",
      "[2023-03-03 15:32:24,993] DEBUG    urllib3.connectionpool https://www.jobfeed.de:443 \"GET /api/v3/search?region=MV&date=2020-08-05&_limit=10000&_labels=0 HTTP/1.1\" 200 None\n",
      "[2023-03-03 15:32:28,266] DEBUG    urllib3.connectionpool Starting new HTTPS connection (1): www.jobfeed.de:443\n",
      "[2023-03-03 15:32:29,197] DEBUG    urllib3.connectionpool https://www.jobfeed.de:443 \"GET /api/v3/search?region=MV&date=2020-08-06&_limit=10000&_labels=0 HTTP/1.1\" 200 None\n",
      "[2023-03-03 15:32:32,518] DEBUG    urllib3.connectionpool Starting new HTTPS connection (1): www.jobfeed.de:443\n",
      "[2023-03-03 15:32:33,459] DEBUG    urllib3.connectionpool https://www.jobfeed.de:443 \"GET /api/v3/search?region=MV&date=2020-08-07&_limit=10000&_labels=0 HTTP/1.1\" 200 None\n",
      "[2023-03-03 15:32:36,720] DEBUG    urllib3.connectionpool Starting new HTTPS connection (1): www.jobfeed.de:443\n",
      "[2023-03-03 15:32:38,545] DEBUG    urllib3.connectionpool https://www.jobfeed.de:443 \"GET /api/v3/search?region=MV&date=2020-08-08&_limit=10000&_labels=0 HTTP/1.1\" 200 None\n",
      "[2023-03-03 15:32:41,839] DEBUG    urllib3.connectionpool Starting new HTTPS connection (1): www.jobfeed.de:443\n",
      "[2023-03-03 15:32:42,636] DEBUG    urllib3.connectionpool https://www.jobfeed.de:443 \"GET /api/v3/search?region=MV&date=2020-08-09&_limit=10000&_labels=0 HTTP/1.1\" 200 None\n",
      "[2023-03-03 15:32:45,969] DEBUG    urllib3.connectionpool Starting new HTTPS connection (1): www.jobfeed.de:443\n",
      "[2023-03-03 15:32:46,816] DEBUG    urllib3.connectionpool https://www.jobfeed.de:443 \"GET /api/v3/search?region=MV&date=2020-08-10&_limit=10000&_labels=0 HTTP/1.1\" 200 None\n",
      "[2023-03-03 15:32:50,185] DEBUG    urllib3.connectionpool Starting new HTTPS connection (1): www.jobfeed.de:443\n",
      "[2023-03-03 15:32:51,275] DEBUG    urllib3.connectionpool https://www.jobfeed.de:443 \"GET /api/v3/search?region=MV&date=2020-08-11&_limit=10000&_labels=0 HTTP/1.1\" 200 None\n",
      "[2023-03-03 15:32:54,772] DEBUG    urllib3.connectionpool Starting new HTTPS connection (1): www.jobfeed.de:443\n",
      "[2023-03-03 15:32:55,849] DEBUG    urllib3.connectionpool https://www.jobfeed.de:443 \"GET /api/v3/search?region=MV&date=2020-08-12&_limit=10000&_labels=0 HTTP/1.1\" 200 None\n",
      "[2023-03-03 15:32:59,173] DEBUG    urllib3.connectionpool Starting new HTTPS connection (1): www.jobfeed.de:443\n",
      "[2023-03-03 15:33:00,733] DEBUG    urllib3.connectionpool https://www.jobfeed.de:443 \"GET /api/v3/search?region=MV&date=2020-08-13&_limit=10000&_labels=0 HTTP/1.1\" 200 None\n"
     ]
    },
    {
     "name": "stdout",
     "output_type": "stream",
     "text": [
      "[2023-03-03 15:33:03,986] DEBUG    urllib3.connectionpool Starting new HTTPS connection (1): www.jobfeed.de:443\n",
      "[2023-03-03 15:33:05,344] DEBUG    urllib3.connectionpool https://www.jobfeed.de:443 \"GET /api/v3/search?region=MV&date=2020-08-14&_limit=10000&_labels=0 HTTP/1.1\" 200 None\n",
      "[2023-03-03 15:33:08,705] DEBUG    urllib3.connectionpool Starting new HTTPS connection (1): www.jobfeed.de:443\n",
      "[2023-03-03 15:33:09,538] DEBUG    urllib3.connectionpool https://www.jobfeed.de:443 \"GET /api/v3/search?region=MV&date=2020-08-15&_limit=10000&_labels=0 HTTP/1.1\" 200 None\n",
      "[2023-03-03 15:33:12,802] DEBUG    urllib3.connectionpool Starting new HTTPS connection (1): www.jobfeed.de:443\n",
      "[2023-03-03 15:33:13,401] DEBUG    urllib3.connectionpool https://www.jobfeed.de:443 \"GET /api/v3/search?region=MV&date=2020-08-16&_limit=10000&_labels=0 HTTP/1.1\" 200 None\n",
      "[2023-03-03 15:33:16,584] DEBUG    urllib3.connectionpool Starting new HTTPS connection (1): www.jobfeed.de:443\n",
      "[2023-03-03 15:33:17,408] DEBUG    urllib3.connectionpool https://www.jobfeed.de:443 \"GET /api/v3/search?region=MV&date=2020-08-17&_limit=10000&_labels=0 HTTP/1.1\" 200 None\n",
      "[2023-03-03 15:33:20,650] DEBUG    urllib3.connectionpool Starting new HTTPS connection (1): www.jobfeed.de:443\n",
      "[2023-03-03 15:33:21,866] DEBUG    urllib3.connectionpool https://www.jobfeed.de:443 \"GET /api/v3/search?region=MV&date=2020-08-18&_limit=10000&_labels=0 HTTP/1.1\" 200 None\n",
      "[2023-03-03 15:33:25,294] DEBUG    urllib3.connectionpool Starting new HTTPS connection (1): www.jobfeed.de:443\n",
      "[2023-03-03 15:33:26,434] DEBUG    urllib3.connectionpool https://www.jobfeed.de:443 \"GET /api/v3/search?region=MV&date=2020-08-19&_limit=10000&_labels=0 HTTP/1.1\" 200 None\n",
      "[2023-03-03 15:33:29,785] DEBUG    urllib3.connectionpool Starting new HTTPS connection (1): www.jobfeed.de:443\n",
      "[2023-03-03 15:33:30,958] DEBUG    urllib3.connectionpool https://www.jobfeed.de:443 \"GET /api/v3/search?region=MV&date=2020-08-20&_limit=10000&_labels=0 HTTP/1.1\" 200 None\n",
      "[2023-03-03 15:33:34,361] DEBUG    urllib3.connectionpool Starting new HTTPS connection (1): www.jobfeed.de:443\n",
      "[2023-03-03 15:33:35,383] DEBUG    urllib3.connectionpool https://www.jobfeed.de:443 \"GET /api/v3/search?region=MV&date=2020-08-21&_limit=10000&_labels=0 HTTP/1.1\" 200 None\n",
      "[2023-03-03 15:33:38,703] DEBUG    urllib3.connectionpool Starting new HTTPS connection (1): www.jobfeed.de:443\n",
      "[2023-03-03 15:33:39,400] DEBUG    urllib3.connectionpool https://www.jobfeed.de:443 \"GET /api/v3/search?region=MV&date=2020-08-22&_limit=10000&_labels=0 HTTP/1.1\" 200 None\n",
      "[2023-03-03 15:33:42,597] DEBUG    urllib3.connectionpool Starting new HTTPS connection (1): www.jobfeed.de:443\n",
      "[2023-03-03 15:33:43,215] DEBUG    urllib3.connectionpool https://www.jobfeed.de:443 \"GET /api/v3/search?region=MV&date=2020-08-23&_limit=10000&_labels=0 HTTP/1.1\" 200 None\n",
      "[2023-03-03 15:33:46,440] DEBUG    urllib3.connectionpool Starting new HTTPS connection (1): www.jobfeed.de:443\n",
      "[2023-03-03 15:33:47,258] DEBUG    urllib3.connectionpool https://www.jobfeed.de:443 \"GET /api/v3/search?region=MV&date=2020-08-24&_limit=10000&_labels=0 HTTP/1.1\" 200 None\n"
     ]
    }
   ],
   "source": [
    "## Hier starten\n",
    "\n",
    "##Dieser Array wird Stück für Stück befüllt auch wenn testlauf() abbricht sind die Daten nicht weg!\n",
    "## Diese Variable bleibt vorläufig erhalten das sie Stück für Stück befüllt wird \n",
    "\n",
    "files = []\n",
    "\n",
    "## Diese Daten müssen auch in  einem Array erfasst werden und erst dann in ein dataframe und dann json umgewandelt werden\n",
    "metadata = []\n",
    "\n",
    "\n",
    "##Globale Variable zur Erfassung von Tagen mit 10000+ Einträgen\n",
    "df_construct.toobig = False\n",
    "\n",
    "text_file = open((\"txt_kernel_download_log_01092022_neu_skills_%s.txt\"%YEAR_MONTH), \"a\")\n",
    "\n",
    "#Kopie für Modul TEST\n",
    "df_construct.text_file=text_file\n",
    "\n",
    "\n",
    "testlauf()\n",
    "\n",
    "\n",
    "print(files)\n",
    "\n",
    "## Erstellung der JSON mit den Daten des Vorgangs\n",
    "df_meta = pd.DataFrame(metadata, columns =['Jahr','Monat', 'Region','SteasDownload','SteasMonatRegion','SteasDownloadTotal','SteasMonatTotal','Dateiname','TagZuGross']) \n",
    "df_meta\n",
    "\n",
    "write_json('testlauf1_%s'%YEAR_MONTH,df_meta)\n",
    "\n",
    "\n",
    "text_file.close()"
   ]
  },
  {
   "cell_type": "code",
   "execution_count": 14,
   "metadata": {},
   "outputs": [],
   "source": [
    "text_file.close()"
   ]
  },
  {
   "cell_type": "code",
   "execution_count": 15,
   "metadata": {},
   "outputs": [],
   "source": [
    "\n",
    "text_file = open(\"txt_kernel_LOG.txt\", \"a\")\n",
    "\n",
    "#Kopie für Modul TEST\n",
    "df_construct.text_file=text_file"
   ]
  },
  {
   "cell_type": "code",
   "execution_count": null,
   "metadata": {},
   "outputs": [
    {
     "name": "stdout",
     "output_type": "stream",
     "text": [
      "[2023-03-03 15:11:44,697] DEBUG    urllib3.connectionpool Starting new HTTPS connection (1): www.jobfeed.de:443\n",
      "[2023-03-03 15:11:45,408] DEBUG    urllib3.connectionpool https://www.jobfeed.de:443 \"GET /api/v3/aggregate?date__range=2022-08-01__2022-08-01%7C%7C%2B1M-1d%0A%0A&region=BW HTTP/1.1\" 200 None\n",
      "[2023-03-03 15:11:48,433] DEBUG    urllib3.connectionpool Starting new HTTPS connection (1): www.jobfeed.de:443\n",
      "[2023-03-03 15:11:53,918] DEBUG    urllib3.connectionpool https://www.jobfeed.de:443 \"GET /api/v3/search?region=BW&date=2022-08-01&_limit=10000&_labels=0 HTTP/1.1\" 200 None\n",
      "[2023-03-03 15:11:59,169] DEBUG    urllib3.connectionpool Starting new HTTPS connection (1): www.jobfeed.de:443\n",
      "[2023-03-03 15:12:07,038] DEBUG    urllib3.connectionpool https://www.jobfeed.de:443 \"GET /api/v3/search?region=BW&date=2022-08-02&_limit=10000&_labels=0 HTTP/1.1\" 200 None\n",
      "[2023-03-03 15:12:12,570] DEBUG    urllib3.connectionpool Starting new HTTPS connection (1): www.jobfeed.de:443\n",
      "[2023-03-03 15:12:21,021] DEBUG    urllib3.connectionpool https://www.jobfeed.de:443 \"GET /api/v3/search?region=BW&date=2022-08-03&_limit=10000&_labels=0 HTTP/1.1\" 200 None\n",
      "[2023-03-03 15:12:27,086] DEBUG    urllib3.connectionpool Starting new HTTPS connection (1): www.jobfeed.de:443\n",
      "[2023-03-03 15:12:36,394] DEBUG    urllib3.connectionpool https://www.jobfeed.de:443 \"GET /api/v3/search?region=BW&date=2022-08-04&_limit=10000&_labels=0 HTTP/1.1\" 200 None\n",
      "[2023-03-03 15:12:42,480] DEBUG    urllib3.connectionpool Starting new HTTPS connection (1): www.jobfeed.de:443\n",
      "[2023-03-03 15:12:50,294] DEBUG    urllib3.connectionpool https://www.jobfeed.de:443 \"GET /api/v3/search?region=BW&date=2022-08-05&_limit=10000&_labels=0 HTTP/1.1\" 200 None\n",
      "[2023-03-03 15:12:56,082] DEBUG    urllib3.connectionpool Starting new HTTPS connection (1): www.jobfeed.de:443\n",
      "[2023-03-03 15:13:02,162] DEBUG    urllib3.connectionpool https://www.jobfeed.de:443 \"GET /api/v3/search?region=BW&date=2022-08-06&_limit=10000&_labels=0 HTTP/1.1\" 200 None\n",
      "[2023-03-03 15:13:07,604] DEBUG    urllib3.connectionpool Starting new HTTPS connection (1): www.jobfeed.de:443\n",
      "[2023-03-03 15:13:10,914] DEBUG    urllib3.connectionpool https://www.jobfeed.de:443 \"GET /api/v3/search?region=BW&date=2022-08-07&_limit=10000&_labels=0 HTTP/1.1\" 200 None\n",
      "[2023-03-03 15:13:15,435] DEBUG    urllib3.connectionpool Starting new HTTPS connection (1): www.jobfeed.de:443\n",
      "[2023-03-03 15:13:20,470] DEBUG    urllib3.connectionpool https://www.jobfeed.de:443 \"GET /api/v3/search?region=BW&date=2022-08-08&_limit=10000&_labels=0 HTTP/1.1\" 200 None\n",
      "[2023-03-03 15:13:25,716] DEBUG    urllib3.connectionpool Starting new HTTPS connection (1): www.jobfeed.de:443\n",
      "[2023-03-03 15:13:32,491] DEBUG    urllib3.connectionpool https://www.jobfeed.de:443 \"GET /api/v3/search?region=BW&date=2022-08-09&_limit=10000&_labels=0 HTTP/1.1\" 200 None\n",
      "[2023-03-03 15:13:38,616] DEBUG    urllib3.connectionpool Starting new HTTPS connection (1): www.jobfeed.de:443\n",
      "[2023-03-03 15:13:45,208] DEBUG    urllib3.connectionpool https://www.jobfeed.de:443 \"GET /api/v3/search?region=BW&date=2022-08-10&_limit=10000&_labels=0 HTTP/1.1\" 200 None\n",
      "[2023-03-03 15:13:51,283] DEBUG    urllib3.connectionpool Starting new HTTPS connection (1): www.jobfeed.de:443\n",
      "[2023-03-03 15:13:57,605] DEBUG    urllib3.connectionpool https://www.jobfeed.de:443 \"GET /api/v3/search?region=BW&date=2022-08-11&_limit=10000&_labels=0 HTTP/1.1\" 200 None\n",
      "[2023-03-03 15:14:04,142] DEBUG    urllib3.connectionpool Starting new HTTPS connection (1): www.jobfeed.de:443\n",
      "[2023-03-03 15:14:10,229] DEBUG    urllib3.connectionpool https://www.jobfeed.de:443 \"GET /api/v3/search?region=BW&date=2022-08-12&_limit=10000&_labels=0 HTTP/1.1\" 200 None\n",
      "[2023-03-03 15:14:16,597] DEBUG    urllib3.connectionpool Starting new HTTPS connection (1): www.jobfeed.de:443\n",
      "[2023-03-03 15:14:22,396] DEBUG    urllib3.connectionpool https://www.jobfeed.de:443 \"GET /api/v3/search?region=BW&date=2022-08-13&_limit=10000&_labels=0 HTTP/1.1\" 200 None\n",
      "[2023-03-03 15:14:28,500] DEBUG    urllib3.connectionpool Starting new HTTPS connection (1): www.jobfeed.de:443\n",
      "[2023-03-03 15:14:31,806] DEBUG    urllib3.connectionpool https://www.jobfeed.de:443 \"GET /api/v3/search?region=BW&date=2022-08-14&_limit=10000&_labels=0 HTTP/1.1\" 200 None\n",
      "[2023-03-03 15:14:36,753] DEBUG    urllib3.connectionpool Starting new HTTPS connection (1): www.jobfeed.de:443\n",
      "[2023-03-03 15:14:41,318] DEBUG    urllib3.connectionpool https://www.jobfeed.de:443 \"GET /api/v3/search?region=BW&date=2022-08-15&_limit=10000&_labels=0 HTTP/1.1\" 200 None\n",
      "[2023-03-03 15:14:46,950] DEBUG    urllib3.connectionpool Starting new HTTPS connection (1): www.jobfeed.de:443\n",
      "[2023-03-03 15:14:52,705] DEBUG    urllib3.connectionpool https://www.jobfeed.de:443 \"GET /api/v3/search?region=BW&date=2022-08-16&_limit=10000&_labels=0 HTTP/1.1\" 200 None\n",
      "[2023-03-03 15:14:59,329] DEBUG    urllib3.connectionpool Starting new HTTPS connection (1): www.jobfeed.de:443\n",
      "[2023-03-03 15:15:06,087] DEBUG    urllib3.connectionpool https://www.jobfeed.de:443 \"GET /api/v3/search?region=BW&date=2022-08-17&_limit=10000&_labels=0 HTTP/1.1\" 200 None\n",
      "[2023-03-03 15:15:12,430] DEBUG    urllib3.connectionpool Starting new HTTPS connection (1): www.jobfeed.de:443\n",
      "[2023-03-03 15:15:20,425] DEBUG    urllib3.connectionpool https://www.jobfeed.de:443 \"GET /api/v3/search?region=BW&date=2022-08-18&_limit=10000&_labels=0 HTTP/1.1\" 200 None\n",
      "[2023-03-03 15:15:27,745] DEBUG    urllib3.connectionpool Starting new HTTPS connection (1): www.jobfeed.de:443\n",
      "[2023-03-03 15:15:35,110] DEBUG    urllib3.connectionpool https://www.jobfeed.de:443 \"GET /api/v3/search?region=BW&date=2022-08-19&_limit=10000&_labels=0 HTTP/1.1\" 200 None\n",
      "[2023-03-03 15:15:41,920] DEBUG    urllib3.connectionpool Starting new HTTPS connection (1): www.jobfeed.de:443\n",
      "[2023-03-03 15:15:47,214] DEBUG    urllib3.connectionpool https://www.jobfeed.de:443 \"GET /api/v3/search?region=BW&date=2022-08-20&_limit=10000&_labels=0 HTTP/1.1\" 200 None\n",
      "[2023-03-03 15:15:53,838] DEBUG    urllib3.connectionpool Starting new HTTPS connection (1): www.jobfeed.de:443\n",
      "[2023-03-03 15:15:56,703] DEBUG    urllib3.connectionpool https://www.jobfeed.de:443 \"GET /api/v3/search?region=BW&date=2022-08-21&_limit=10000&_labels=0 HTTP/1.1\" 200 None\n",
      "[2023-03-03 15:16:01,994] DEBUG    urllib3.connectionpool Starting new HTTPS connection (1): www.jobfeed.de:443\n",
      "[2023-03-03 15:16:06,011] DEBUG    urllib3.connectionpool https://www.jobfeed.de:443 \"GET /api/v3/search?region=BW&date=2022-08-22&_limit=10000&_labels=0 HTTP/1.1\" 200 None\n",
      "[2023-03-03 15:16:11,886] DEBUG    urllib3.connectionpool Starting new HTTPS connection (1): www.jobfeed.de:443\n",
      "[2023-03-03 15:16:18,194] DEBUG    urllib3.connectionpool https://www.jobfeed.de:443 \"GET /api/v3/search?region=BW&date=2022-08-23&_limit=10000&_labels=0 HTTP/1.1\" 200 None\n",
      "[2023-03-03 15:16:25,404] DEBUG    urllib3.connectionpool Starting new HTTPS connection (1): www.jobfeed.de:443\n",
      "[2023-03-03 15:16:31,547] DEBUG    urllib3.connectionpool https://www.jobfeed.de:443 \"GET /api/v3/search?region=BW&date=2022-08-24&_limit=10000&_labels=0 HTTP/1.1\" 200 None\n"
     ]
    }
   ],
   "source": [
    "test=  df_construct.get_month_region_retry('BW','2022-08')\n",
    "print(df_construct.toobig)"
   ]
  },
  {
   "cell_type": "markdown",
   "metadata": {},
   "source": [
    "#### Bibliotheken und globale Variablen für die Befüllung der DB "
   ]
  },
  {
   "cell_type": "markdown",
   "metadata": {},
   "source": [
    "#### Hier findet der 2.Teil statt in dem der Transfer in die DB getestet wird"
   ]
  },
  {
   "cell_type": "code",
   "execution_count": null,
   "metadata": {},
   "outputs": [],
   "source": [
    "\n",
    "#x = pd.read_json(\"df_error.json\")\n",
    "\n",
    "x = pd.read_json(\"TK_2021-03_BE.json\",orient=\"records\", encoding=\"latin-1\")"
   ]
  },
  {
   "cell_type": "code",
   "execution_count": null,
   "metadata": {},
   "outputs": [],
   "source": [
    "x['it_skills']"
   ]
  },
  {
   "cell_type": "code",
   "execution_count": null,
   "metadata": {},
   "outputs": [],
   "source": [
    "index = x.index\n",
    "columns = x.columns\n",
    "columns"
   ]
  },
  {
   "cell_type": "code",
   "execution_count": null,
   "metadata": {},
   "outputs": [],
   "source": [
    "#x[x['it_skill_terms']=='[LabView]']\n",
    "#x"
   ]
  },
  {
   "cell_type": "code",
   "execution_count": null,
   "metadata": {},
   "outputs": [],
   "source": [
    "#x[\"Monat\"]= x[\"Dateiname\"].apply(lambda x: x[-5:-3]) Nicht mehr nötig"
   ]
  },
  {
   "cell_type": "code",
   "execution_count": null,
   "metadata": {},
   "outputs": [],
   "source": [
    "files = x['Dateiname'].tolist() ##Abgeöndert"
   ]
  },
  {
   "cell_type": "code",
   "execution_count": null,
   "metadata": {},
   "outputs": [],
   "source": [
    "files"
   ]
  },
  {
   "cell_type": "code",
   "execution_count": null,
   "metadata": {},
   "outputs": [],
   "source": [
    "##NEUE Tests\n",
    "\n",
    "text_file = open(\"txt_kernel_test_NEU.txt\", \"a\")\n",
    "#test = get_month_region_retry('2020-04','BW')\n",
    "\n",
    "#Kopie für Modul TEST\n",
    "df_construct.text_file=text_file\n",
    "\n",
    "\n",
    "##Wichtig !  Region + Monat mir Tag über 10000 Einträgen\n",
    "#test=  df_construct.get_month_region_retry('BW','2020-01')\n",
    "\n",
    "#test=  df_construct.get_month_region_retry('BW','2020-04')\n",
    "test=  df_construct.get_month_region_retry('SL','2018-03')\n",
    "\n",
    "#test=  df_construct.get_month_region_retry('2020-04','BW')\n",
    "#construct_day('2020-04','BE','23')"
   ]
  },
  {
   "cell_type": "code",
   "execution_count": null,
   "metadata": {},
   "outputs": [],
   "source": [
    "test\n",
    "len(test.job_id.unique())"
   ]
  },
  {
   "cell_type": "code",
   "execution_count": null,
   "metadata": {},
   "outputs": [],
   "source": [
    "text_file = open(\"agg_test.txt\", \"a\")\n",
    "#test = get_month_region_retry('2020-04','BW')\n",
    "\n",
    "#Kopie für Modul TEST\n",
    "df_construct.text_file=text_file\n",
    "x = df_construct.aggregate_month_region(\"SL\",\"2018-03\")\n"
   ]
  },
  {
   "cell_type": "code",
   "execution_count": null,
   "metadata": {},
   "outputs": [],
   "source": [
    "print(x)"
   ]
  },
  {
   "cell_type": "code",
   "execution_count": null,
   "metadata": {},
   "outputs": [],
   "source": [
    "df_input = pd.read_json('TK_2020-08_BE.json',encoding=\"latin-1\")"
   ]
  },
  {
   "cell_type": "code",
   "execution_count": null,
   "metadata": {},
   "outputs": [],
   "source": [
    "df_input"
   ]
  },
  {
   "cell_type": "code",
   "execution_count": null,
   "metadata": {},
   "outputs": [],
   "source": []
  },
  {
   "cell_type": "code",
   "execution_count": null,
   "metadata": {},
   "outputs": [],
   "source": []
  }
 ],
 "metadata": {
  "kernelspec": {
   "display_name": "Python 3",
   "language": "python",
   "name": "python3"
  },
  "language_info": {
   "codemirror_mode": {
    "name": "ipython",
    "version": 3
   },
   "file_extension": ".py",
   "mimetype": "text/x-python",
   "name": "python",
   "nbconvert_exporter": "python",
   "pygments_lexer": "ipython3",
   "version": "3.7.6"
  }
 },
 "nbformat": 4,
 "nbformat_minor": 2
}
